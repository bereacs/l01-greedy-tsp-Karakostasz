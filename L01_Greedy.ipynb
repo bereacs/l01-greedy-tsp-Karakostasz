{
  "nbformat": 4,
  "nbformat_minor": 0,
  "metadata": {
    "colab": {
      "name": "L01: Greedy.ipynb",
      "provenance": [],
      "include_colab_link": true
    },
    "kernelspec": {
      "name": "python3",
      "display_name": "Python 3"
    }
  },
  "cells": [
    {
      "cell_type": "markdown",
      "metadata": {
        "id": "view-in-github",
        "colab_type": "text"
      },
      "source": [
        "<a href=\"https://colab.research.google.com/github/bereacs/l01-greedy-tsp-Karakostasz/blob/master/L01_Greedy.ipynb\" target=\"_parent\"><img src=\"https://colab.research.google.com/assets/colab-badge.svg\" alt=\"Open In Colab\"/></a>"
      ]
    },
    {
      "cell_type": "markdown",
      "metadata": {
        "id": "Ws6rXa1xv_gv"
      },
      "source": [
        "# [L01: Implementing Greedy TSP](https://docs.google.com/document/d/1JA_CWBXPN6whvJAemnJLvtYJ3Pbk84dTUolWO_QqosA/edit?usp=sharing)\n",
        "Written by Dr. Jan Pearce, Berea College\n",
        "\n",
        "Complete the code by meeting all linked requirements and fixing all FIXMEs\n",
        "\n",
        "## Your Name: Karakostas Zacharias\n"
      ]
    },
    {
      "cell_type": "markdown",
      "metadata": {
        "id": "PvEpt0HPKq9X"
      },
      "source": [
        "**SUMMARY**: A brief summary description of the design and implementation, including how much your initial design plan evolved, the final result you achieved and the amount of time you spent as a programmer or programmers in accomplishing these results. This should be no more than two paragraphs.\n",
        "\n",
        "    The goal of the project was to use Python and NetworkX to build a greedy method for solving the Traveling Salesperson Problem. The first design comprised a simple class structure for data extraction, graph generation, and visualization. Throughout development, the design expanded to incorporate complete tests embedded in each function, utilizing both assert and print statements for improved traceability and debugging. The end product is a functional TSP solver that correctly calculates and visualizes a route using the Greedy algorithm. The development process lasted about 6-8 hours, including initial planning, coding, testing, and debugging.\n",
        "\n",
        "**PERSONNEL**: A description of who you worked with and on what sections.  It is expected that all collaboration is done as pair programming together. Also, note these collaborations in the code section itself.\n",
        "\n",
        "    This was given to us as an individual assignment, so I was working on alone in the whole project.\n",
        "\n",
        "**CHALLENGES**: Descriptions of the largest challenges you overcame and what made them challenging.\n",
        "\n",
        "    The most major issues involved dealing with edges in which the Greedy algorithm did not yield the proper or optimal route due to intrinsic restrictions. Furthermore, executing the distance calculation efficiently and guaranteeing that all nodes were visited exactly once necessitated meticulous attention to detail. Debugging the integration of route calculation and graph presentation was very difficult, particularly when ensuring that edges were accurately constructed based on estimated distances.\n",
        "\n",
        "**INNOVATIONS**: Any innovations that were not specifically required by the assignment. These are not required, but should be highlighted if included.\n",
        "\n",
        "    One major innovation was the inclusion of both assert and print statements in each function. This dual-layer testing provided immediate feedback on the correctness of each component of the implementation, which greatly aided debugging and refining the code. Another innovation was the dynamic way to calculating the nearest neighbor, which improved the route selection process in the Greedy algorithm.\n",
        "\n",
        "**TESTING**: Describe how you tested this work.\n",
        "\n",
        "    Assert statements were used within each function to validate critical components such as data extraction, distance calculation, route design, and graph creation. Each assert was accompanied by a print statement that either confirmed successful execution or highlighted failure.\n",
        "\n",
        "**ERRORS**: A list in bulleted form of all known errors and deficiencies.\n",
        "\n",
        "    - The Greedy algorithm does not guarantee an optimal solution in genral (hueristic) and may occasionally generate poor routes.\n",
        "    - When dealing with enormous datasets, visualization might become cluttered and difficult to interpret.\n",
        "    - Some edge circumstances may not be handled effectively due to the greedy approach's simplicity.\n",
        "    - In some more rare circumstances, floating-point imperfections may have a minor impact on distance estimations.\n",
        "\n",
        "**COMMENTS**: A paragraph or so of your own comments on and reactions to the Lab.\n",
        "\n",
        "    Overall, this lab provided a good opportunity to grasp the Greedy algorithm's strengths and limits while addressing NP-hard problems such as the TSP. The incorporation of testing tools right into the code proved to be an extremely useful strategy for debugging and validating each stage. While the Greedy technique has limits, particularly in terms of ensuring the best solution, the exercise provided valuable insight on heuristic problem-solving methods. The whole lab, in general, demonstrated the value of extensive testing and collaborative programming methodologies."
      ]
    },
    {
      "cell_type": "markdown",
      "metadata": {
        "id": "lRXe-Atyv30H"
      },
      "source": [
        "## Import Libraries"
      ]
    },
    {
      "cell_type": "code",
      "metadata": {
        "id": "b6koAGG2mhix"
      },
      "source": [
        "import networkx as nx\n",
        "import matplotlib.pyplot as plt\n",
        "import math\n",
        "from urllib.request import urlopen"
      ],
      "execution_count": 1,
      "outputs": []
    },
    {
      "cell_type": "markdown",
      "metadata": {
        "id": "y-JqngNLmhVG"
      },
      "source": [
        "### Read data"
      ]
    },
    {
      "cell_type": "code",
      "metadata": {
        "id": "GzeEKA-nwLsJ",
        "outputId": "be476869-cb31-449f-810c-e33b880220cd",
        "colab": {
          "base_uri": "https://localhost:8080/"
        }
      },
      "source": [
        "tspdata = urlopen(\"http://cs.berea.edu/courses/csc445/data/tsp-small.txt\").read().decode('ASCII')\n",
        "print(tspdata)"
      ],
      "execution_count": 2,
      "outputs": [
        {
          "output_type": "stream",
          "name": "stdout",
          "text": [
            "6\r\n",
            "1 5 \r\n",
            "3 7 \r\n",
            "5 11 \r\n",
            "3 5 \r\n",
            "5 7 \r\n",
            "7 9 \r\n",
            "\n"
          ]
        }
      ]
    },
    {
      "cell_type": "markdown",
      "metadata": {
        "id": "qGcB5022KlHL"
      },
      "source": [
        "## TSP Class"
      ]
    },
    {
      "cell_type": "code",
      "metadata": {
        "id": "KIzVOICElISX",
        "outputId": "41bc50d6-e5b8-4ea7-e518-66c4bd0f2f97",
        "colab": {
          "base_uri": "https://localhost:8080/",
          "height": 967
        }
      },
      "source": [
        "\"\"\"\n",
        "\n",
        "Given certain input, it uses the greedy algorithm to plot a graph and output a file of the solution path\n",
        "\"\"\"\n",
        "\n",
        "class TSP:\n",
        "\n",
        "    def __init__(self):\n",
        "        \"\"\" TSP class containing data needed for networkx graph creation, file reading and file writing.\n",
        "            Creates a graph for the traveling salesperon problem using the greedy algorithm\n",
        "        \"\"\"\n",
        "\n",
        "        self.dimension = None\n",
        "        self.nodeData = []\n",
        "        self.graph = nx.DiGraph()\n",
        "        self.coords = {}\n",
        "        self.places = []\n",
        "        self.route = []\n",
        "\n",
        "    def extractData(self, inputFile=\"\"):\n",
        "        \"\"\"\n",
        "        Itterate through the input file and append each coordinate into the node list.\n",
        "        Keyword Arguments:\n",
        "            inputFile {str} -- a string for the file name (default: {\"\"})\n",
        "\n",
        "        pass\n",
        "        #FIXME complete this function\n",
        "        \"\"\"\n",
        "        lines = inputFile.strip().split(\"\\n\")\n",
        "        self.dimension = int(lines[0])  # First line contains the number of nodes\n",
        "        for i in range(1, self.dimension + 1):\n",
        "            x, y = map(int, lines[i].split())\n",
        "            self.nodeData.append((i, x, y))\n",
        "\n",
        "        # Test to check if data is extracted correctly\n",
        "        assert len(self.nodeData) == self.dimension, \"Data extraction failed the exquisite algorithm: there is an incorrect number of nodes in the list\"\n",
        "        print(f\"extractData: Passed - Extracted {len(self.nodeData)} nodes.\")\n",
        "\n",
        "    def setUpCoords(self):\n",
        "        \"\"\" Puts the coordinates for each node into a dictionary as a tuple with the node as the key\n",
        "\n",
        "        pass\n",
        "        #FIXME complete this function\n",
        "        \"\"\"\n",
        "\n",
        "        for node in self.nodeData:\n",
        "            self.coords[node[0]] = (node[1], node[2])\n",
        "\n",
        "        # Test to ensure coordinates are correctly set up\n",
        "        assert len(self.coords) == self.dimension, \"Coordinate setup failed :( - mismatch in the  number of coordinates\"\n",
        "        print(f\"setUpCoords: Passed - Set up {len(self.coords)} coordinates.\")\n",
        "\n",
        "\n",
        "    def calculateDistance(self, a, b):\n",
        "        \"\"\"calculates & returns the distance between points a and b\n",
        "        Arguments:\n",
        "            a {[tuple]} -- tuple of numbers for the x and y coordinate of a node\n",
        "            b {[tuple]} -- tuple of numbers for the x and y coordinate of a node\n",
        "        Returns:\n",
        "            [float] -- the distance between the two points using the distance formula\n",
        "\n",
        "        pass\n",
        "        #FIXME complete this function\n",
        "        \"\"\"\n",
        "        distance = math.sqrt((a[0] - b[0]) ** 2 + (a[1] - b[1]) ** 2)\n",
        "\n",
        "        # Test to check the distance calculation\n",
        "        assert isinstance(distance, float) and distance >= 0, \"The Distance calculation failed: invalid distance calc\"\n",
        "        print(f\"calculateDistance Passed -- Distance between {a} and {b} is {distance}.\")\n",
        "        return distance\n",
        "\n",
        "    def getRoute(self, current, visits=[], nVisits=[], needList=True):\n",
        "        \"\"\"Makes a list of the nodes to be visited, in order, according to the greedy alogorithm for the TSP\n",
        "        Arguments:\n",
        "            current {int} -- the node to start at, not a list index\n",
        "        Keyword Arguments:\n",
        "            visits {list} -- list of places already visited (default: {[]})\n",
        "            nVisits {list} -- list of places not visited (default: {[]})\n",
        "            needList {bool} -- boolean deciding if the list of places not visited needs to be filled (default: {True})\n",
        "\n",
        "        pass\n",
        "        #FIXME complete this function\n",
        "        \"\"\"\n",
        "\n",
        "        if needList:\n",
        "            nVisits = list(self.coords.keys())\n",
        "            nVisits.remove(current)\n",
        "        visits.append(current)\n",
        "\n",
        "        while nVisits:\n",
        "            nearest = min(nVisits, key=lambda x: self.calculateDistance(self.coords[current], self.coords[x]))\n",
        "            current = nearest\n",
        "            visits.append(current)\n",
        "            nVisits.remove(current)\n",
        "\n",
        "        self.route = visits\n",
        "\n",
        "        # Test to ensure all nodes are visited\n",
        "        assert len(self.route) == self.dimension, \"The Route calculation failed me again: not all nodes are visited\"\n",
        "        print(f\"getRoute: Passed, Route calculated with {len(self.route)} nodes visited.\")\n",
        "        return visits\n",
        "\n",
        "    def beGreedy(self, start):\n",
        "        \"\"\" puts together the greedy algorithm. Gets the route order and adds the starting place to the end of the route\n",
        "        Arguments:\n",
        "            start -- the starting node for the greedy algorithm\n",
        "\n",
        "        pass\n",
        "        #FIXME complete this function\n",
        "        \"\"\"\n",
        "\n",
        "        self.route = self.getRoute(start)\n",
        "        self.route.append(start)  # Complete the cycle by returning to the starting node\n",
        "\n",
        "        # Test to ensure the route forms a cycle\n",
        "        assert self.route[0] == self.route[-1], \"Greedy algorithm failed us brother: THe route does not form a cycle\"\n",
        "        print(f\"beGreedy: Passed -- Route forms a cycle starting and ending at node {start}.\")\n",
        "\n",
        "\n",
        "    def listPlaces(self):\n",
        "        \"\"\"makes a list of all the nodes/places from the dictionary\n",
        "        Returns:\n",
        "            [list] -- list of all the nodes/places\n",
        "       pass\n",
        "        #FIXME complete this function\n",
        "       \"\"\"\n",
        "\n",
        "        places = list(self.coords.keys())\n",
        "\n",
        "        # Test to check if all nodes are listed\n",
        "        assert len(places) == self.dimension, \"Listing places failed: Ther is a mismatch in the number of nodes\"\n",
        "        print(f\"list of Places: Passed - Listed {len(places)} places.\")\n",
        "        return places\n",
        "\n",
        "    def cleanUpList(self, visited, notVisited):\n",
        "        \"\"\"removes items in visited from notVisited\n",
        "        Arguments:\n",
        "            visited {list}\n",
        "            notVisited {list}\n",
        "        Returns:\n",
        "            [list] -- a list of notVisited - visited\n",
        "        \"\"\"\n",
        "\n",
        "        for item in visited:\n",
        "            if item in notVisited:\n",
        "                notVisited.remove(item)\n",
        "        return notVisited\n",
        "\n",
        "    def addNodes(self):\n",
        "        \"\"\" adds nodes to the networkx graph\n",
        "        \"\"\"\n",
        "\n",
        "        for everything in self.nodeData:\n",
        "            node = everything[0]\n",
        "            self.graph.add_node(node, pos=self.coords[node])\n",
        "\n",
        "        print(f\"addNodes: Passed - Added {len(self.graph.nodes)} nodes to the graph.\")\n",
        "\n",
        "    def addEdges(self):\n",
        "        \"\"\"Adds graphs to the networkx graph\n",
        "        \"\"\"\n",
        "\n",
        "        x = 0\n",
        "        while x < len(self.route)-1:\n",
        "            self.graph.add_edge(self.route[x], self.route[x+1],\n",
        "                                weight=self.calculateDistance(self.coords[self.route[x]], self.coords[self.route[x+1]]))\n",
        "            x += 1\n",
        "\n",
        "    def showGraph(self):\n",
        "        \"\"\"Uses the imported libraries to display the graph\n",
        "        \"\"\"\n",
        "        # get labels and coordinates for the graph\n",
        "        coords = nx.get_node_attributes(self.graph, 'pos')\n",
        "        labels = nx.get_edge_attributes(self.graph, 'weight')\n",
        "        # draw nodes in their coordinates\n",
        "        nx.draw(self.graph, coords)\n",
        "        nx.draw_networkx_labels(self.graph, coords)\n",
        "        # draw edges with their weights\n",
        "        nx.draw_networkx_edge_labels(self.graph, coords, edge_labels=labels)\n",
        "        plt.show()\n",
        "\n",
        "\n",
        "\n",
        "\n",
        "def main():\n",
        "    tsp = TSP()\n",
        "\n",
        "    tsp.extractData(tspdata)\n",
        "    tsp.setUpCoords()\n",
        "    tsp.addNodes()\n",
        "    tsp.beGreedy(1)\n",
        "    tsp.addEdges()\n",
        "    tsp.showGraph()\n",
        "\n",
        "\n",
        "main()"
      ],
      "execution_count": 16,
      "outputs": [
        {
          "output_type": "stream",
          "name": "stdout",
          "text": [
            "extractData: Passed - Extracted 6 nodes.\n",
            "setUpCoords: Passed - Set up 6 coordinates.\n",
            "addNodes: Passed - Added 6 nodes to the graph.\n",
            "calculateDistance: Passed - Distance between (1, 5) and (3, 7) is 2.8284271247461903.\n",
            "calculateDistance: Passed - Distance between (1, 5) and (5, 11) is 7.211102550927978.\n",
            "calculateDistance: Passed - Distance between (1, 5) and (3, 5) is 2.0.\n",
            "calculateDistance: Passed - Distance between (1, 5) and (5, 7) is 4.47213595499958.\n",
            "calculateDistance: Passed - Distance between (1, 5) and (7, 9) is 7.211102550927978.\n",
            "calculateDistance: Passed - Distance between (3, 5) and (3, 7) is 2.0.\n",
            "calculateDistance: Passed - Distance between (3, 5) and (5, 11) is 6.324555320336759.\n",
            "calculateDistance: Passed - Distance between (3, 5) and (5, 7) is 2.8284271247461903.\n",
            "calculateDistance: Passed - Distance between (3, 5) and (7, 9) is 5.656854249492381.\n",
            "calculateDistance: Passed - Distance between (3, 7) and (5, 11) is 4.47213595499958.\n",
            "calculateDistance: Passed - Distance between (3, 7) and (5, 7) is 2.0.\n",
            "calculateDistance: Passed - Distance between (3, 7) and (7, 9) is 4.47213595499958.\n",
            "calculateDistance: Passed - Distance between (5, 7) and (5, 11) is 4.0.\n",
            "calculateDistance: Passed - Distance between (5, 7) and (7, 9) is 2.8284271247461903.\n",
            "calculateDistance: Passed - Distance between (7, 9) and (5, 11) is 2.8284271247461903.\n",
            "getRoute: Passed - Route calculated with 6 nodes visited.\n",
            "beGreedy: Passed - Route forms a cycle starting and ending at node 1.\n",
            "calculateDistance: Passed - Distance between (1, 5) and (3, 5) is 2.0.\n",
            "calculateDistance: Passed - Distance between (3, 5) and (3, 7) is 2.0.\n",
            "calculateDistance: Passed - Distance between (3, 7) and (5, 7) is 2.0.\n",
            "calculateDistance: Passed - Distance between (5, 7) and (7, 9) is 2.8284271247461903.\n",
            "calculateDistance: Passed - Distance between (7, 9) and (5, 11) is 2.8284271247461903.\n",
            "calculateDistance: Passed - Distance between (5, 11) and (1, 5) is 7.211102550927978.\n"
          ]
        },
        {
          "output_type": "display_data",
          "data": {
            "text/plain": [
              "<Figure size 640x480 with 1 Axes>"
            ],
            "image/png": "[encoded data removed]"
          },
          "metadata": {}
        }
      ]
    },
    {
      "cell_type": "markdown",
      "metadata": {
        "id": "-6HarsXemeKP"
      },
      "source": []
    }
  ]
}